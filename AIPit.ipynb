{
 "cells": [
  {
   "cell_type": "code",
   "execution_count": 1,
   "id": "19c4e55d-a760-45b4-a969-86f9a170d43d",
   "metadata": {},
   "outputs": [],
   "source": [
    "from QuantumChessGame import *\n",
    "from MinimalQCGameState import *\n",
    "\n",
    "# Use the compiled AI, not the python version\n",
    "from QuantumChessAI import *\n",
    "#from ExpectiMinimaxAI import *\n",
    "\n",
    "from MCTS import MCTS_Node\n",
    "\n",
    "from ChessPuzzles import chess_puzzles\n",
    "import numpy as np\n",
    "import time\n",
    "import random"
   ]
  },
  {
   "cell_type": "markdown",
   "id": "5aad2ce2-1c1b-40d7-9f59-fb0c29377c4a",
   "metadata": {},
   "source": [
    "### Minimax vs MCTS"
   ]
  },
  {
   "cell_type": "code",
   "execution_count": 3,
   "id": "74259f06-f326-468a-9ffa-7d994b677eda",
   "metadata": {},
   "outputs": [],
   "source": [
    "class MCTS_AI:\n",
    "    def __init__(self):\n",
    "        return\n",
    "    \n",
    "    def find_best_move(self, game, UseMinimalGameState=True):\n",
    "        \n",
    "        \n",
    "        if UseMinimalGameState:\n",
    "            # if using the minimal game state, derive game state from the game to build MCTS root \n",
    "            init_state = game.config['initial_state_fen']\n",
    "            move_history = game.get_history()\n",
    "            move_code = game.movecode.value\n",
    "            gamestate = MinimalQuantumChessGameState(init_state, move_history, move_code) \n",
    "            root = MCTS_Node(gamestate)   \n",
    "        else:\n",
    "            #if using full QC game structure\n",
    "            root = MCTS_Node(game)\n",
    "        \n",
    "        gamedata = game.get_game_data()\n",
    "        bestmove = root.best_action(gamedata.ply)\n",
    "        return bestmove"
   ]
  },
  {
   "cell_type": "code",
   "execution_count": 4,
   "id": "814dc2b7-ffa6-4c98-8ce9-f9afac5c2a57",
   "metadata": {
    "scrolled": true
   },
   "outputs": [
    {
     "ename": "AttributeError",
     "evalue": "function 'new_AI' not found",
     "output_type": "error",
     "traceback": [
      "\u001b[1;31m---------------------------------------------------------------------------\u001b[0m",
      "\u001b[1;31mAttributeError\u001b[0m                            Traceback (most recent call last)",
      "Cell \u001b[1;32mIn[4], line 13\u001b[0m\n\u001b[0;32m     11\u001b[0m AIConfig1\u001b[38;5;241m.\u001b[39muse_iterative_deepening \u001b[38;5;241m=\u001b[39m \u001b[38;5;28;01mFalse\u001b[39;00m\n\u001b[0;32m     12\u001b[0m AIConfig1\u001b[38;5;241m.\u001b[39msearch_quantum_moves \u001b[38;5;241m=\u001b[39m \u001b[38;5;28;01mFalse\u001b[39;00m\n\u001b[1;32m---> 13\u001b[0m AI \u001b[38;5;241m=\u001b[39m QuantumChessAI()\n\u001b[0;32m     14\u001b[0m AI\u001b[38;5;241m.\u001b[39mset_configuration(AIConfig1)\n\u001b[0;32m     16\u001b[0m \u001b[38;5;66;03m# Create MCTS AI\u001b[39;00m\n",
      "File \u001b[1;32m~\\Documents\\WIU_QuantumChessSIR\\QuantumChess-MCTS-Study\\QuantumChessAI.py:53\u001b[0m, in \u001b[0;36mQuantumChessAI.__init__\u001b[1;34m(self)\u001b[0m\n\u001b[0;32m     49\u001b[0m     exit(\u001b[38;5;241m0\u001b[39m)\n\u001b[0;32m     51\u001b[0m \u001b[38;5;66;03m# Set up all the API signatures\u001b[39;00m\n\u001b[0;32m     52\u001b[0m \u001b[38;5;66;03m#MINIMAX_AI_API QC::AI::MinimaxAI* new_AI();\u001b[39;00m\n\u001b[1;32m---> 53\u001b[0m \u001b[38;5;28mself\u001b[39m\u001b[38;5;241m.\u001b[39mQChessAI_lib\u001b[38;5;241m.\u001b[39mnew_AI\u001b[38;5;241m.\u001b[39margtypes \u001b[38;5;241m=\u001b[39m []\n\u001b[0;32m     54\u001b[0m \u001b[38;5;28mself\u001b[39m\u001b[38;5;241m.\u001b[39mQChessAI_lib\u001b[38;5;241m.\u001b[39mnew_AI\u001b[38;5;241m.\u001b[39mrestype \u001b[38;5;241m=\u001b[39m POINTER(c_int)\n\u001b[0;32m     56\u001b[0m \u001b[38;5;66;03m#MINIMAX_AI_API long delete_AI(QC::AI::MinimaxAI* AI);\u001b[39;00m\n",
      "File \u001b[1;32m~\\anaconda3\\Lib\\ctypes\\__init__.py:392\u001b[0m, in \u001b[0;36mCDLL.__getattr__\u001b[1;34m(self, name)\u001b[0m\n\u001b[0;32m    390\u001b[0m \u001b[38;5;28;01mif\u001b[39;00m name\u001b[38;5;241m.\u001b[39mstartswith(\u001b[38;5;124m'\u001b[39m\u001b[38;5;124m__\u001b[39m\u001b[38;5;124m'\u001b[39m) \u001b[38;5;129;01mand\u001b[39;00m name\u001b[38;5;241m.\u001b[39mendswith(\u001b[38;5;124m'\u001b[39m\u001b[38;5;124m__\u001b[39m\u001b[38;5;124m'\u001b[39m):\n\u001b[0;32m    391\u001b[0m     \u001b[38;5;28;01mraise\u001b[39;00m \u001b[38;5;167;01mAttributeError\u001b[39;00m(name)\n\u001b[1;32m--> 392\u001b[0m func \u001b[38;5;241m=\u001b[39m \u001b[38;5;28mself\u001b[39m\u001b[38;5;241m.\u001b[39m\u001b[38;5;21m__getitem__\u001b[39m(name)\n\u001b[0;32m    393\u001b[0m \u001b[38;5;28msetattr\u001b[39m(\u001b[38;5;28mself\u001b[39m, name, func)\n\u001b[0;32m    394\u001b[0m \u001b[38;5;28;01mreturn\u001b[39;00m func\n",
      "File \u001b[1;32m~\\anaconda3\\Lib\\ctypes\\__init__.py:397\u001b[0m, in \u001b[0;36mCDLL.__getitem__\u001b[1;34m(self, name_or_ordinal)\u001b[0m\n\u001b[0;32m    396\u001b[0m \u001b[38;5;28;01mdef\u001b[39;00m \u001b[38;5;21m__getitem__\u001b[39m(\u001b[38;5;28mself\u001b[39m, name_or_ordinal):\n\u001b[1;32m--> 397\u001b[0m     func \u001b[38;5;241m=\u001b[39m \u001b[38;5;28mself\u001b[39m\u001b[38;5;241m.\u001b[39m_FuncPtr((name_or_ordinal, \u001b[38;5;28mself\u001b[39m))\n\u001b[0;32m    398\u001b[0m     \u001b[38;5;28;01mif\u001b[39;00m \u001b[38;5;129;01mnot\u001b[39;00m \u001b[38;5;28misinstance\u001b[39m(name_or_ordinal, \u001b[38;5;28mint\u001b[39m):\n\u001b[0;32m    399\u001b[0m         func\u001b[38;5;241m.\u001b[39m\u001b[38;5;18m__name__\u001b[39m \u001b[38;5;241m=\u001b[39m name_or_ordinal\n",
      "\u001b[1;31mAttributeError\u001b[0m: function 'new_AI' not found"
     ]
    }
   ],
   "source": [
    "# Set up a new game\n",
    "game = QuantumChessGame()\n",
    "game.new_game({})\n",
    "\n",
    "# Create Minimax AI\n",
    "AIConfig1 = AISearchConfig()\n",
    "AIConfig1.max_search_depth = 5\n",
    "AIConfig1.max_search_time = 4000\n",
    "AIConfig1.capture_move_repetitions = 1\n",
    "AIConfig1.use_transposition_table = False\n",
    "AIConfig1.use_iterative_deepening = False\n",
    "AIConfig1.search_quantum_moves = False\n",
    "AI = QuantumChessAI()\n",
    "AI.set_configuration(AIConfig1)\n",
    "\n",
    "# Create MCTS AI\n",
    "MCTSAI = MCTS_AI()\n",
    "\n",
    "movecode = 1\n",
    "gamedata = game.get_game_data()\n",
    "move_history = []\n",
    "random.seed(0)\n",
    "while( movecode == 1 ):\n",
    "    \n",
    "    if( gamedata.ply % 2 == 0 ):\n",
    "        searchresult = AI.find_best_move(game)\n",
    "        move = str(searchresult.bestMove)[2:-1]\n",
    "    else:\n",
    "        move = MCTSAI.find_best_move(game)\n",
    "    \n",
    "    gamedata, movecode = game.do_move(move)\n",
    "    move_history = game.get_history()\n",
    "    print(move_history)\n",
    "    \n",
    "    if( len(move_history) > 200 ):\n",
    "        break\n",
    "    \n",
    "print(\"Game ended with movecode: \" + MoveCode[movecode])\n",
    "AI.destroy()"
   ]
  },
  {
   "cell_type": "markdown",
   "id": "91b700ab-5206-46a3-83d3-de7f204fd983",
   "metadata": {},
   "source": [
    "## Minimax classical vs Minimax quantum"
   ]
  },
  {
   "cell_type": "code",
   "execution_count": null,
   "id": "9c74161d-38f4-4f4a-ac70-32e8faf405d4",
   "metadata": {},
   "outputs": [],
   "source": [
    "game = QuantumChessGame()\n",
    "game.new_game()\n",
    "\n",
    "AIConfig1 = AISearchConfig()\n",
    "AIConfig1.max_search_depth = 3\n",
    "AIConfig1.max_search_time = 2000\n",
    "AIConfig1.capture_move_repetitions = 1\n",
    "AIConfig1.use_transposition_table = False\n",
    "AIConfig1.use_iterative_deepening = False\n",
    "AIConfig1.search_quantum_moves = False\n",
    "\n",
    "AIConfig2 = AISearchConfig()\n",
    "AIConfig2.max_search_depth = 3\n",
    "AIConfig2.max_search_time = 2000\n",
    "AIConfig2.capture_move_repetitions = 25\n",
    "AIConfig2.use_transposition_table = False\n",
    "AIConfig2.use_iterative_deepening = False\n",
    "AIConfig2.search_quantum_moves = True\n",
    "\n",
    "AIs = [QuantumChessAI(),QuantumChessAI()]\n",
    "AIs[0].set_configuration(AIConfig1)\n",
    "AIs[1].set_configuration(AIConfig2)\n",
    "\n",
    "movecode = 1\n",
    "gamedata = game.get_game_data()\n",
    "move_history = []\n",
    "random.seed(0)\n",
    "while( movecode == 1 ):\n",
    "    \n",
    "    searchresult = AIs[gamedata.ply%2].find_best_move(game)\n",
    "    move = str(searchresult.bestMove)[2:-1]\n",
    "    \n",
    "    # If no valid move found, just pick first legal one\n",
    "    if( move == \"\" ):\n",
    "        all_moves = format_moves(game.get_legal_moves())\n",
    "        move = all_moves[random.randrange(0, len(all_moves))]\n",
    "        print(\"No move returned, legal move picked is \")\n",
    "        print(move)\n",
    "    \n",
    "    print(\"Move: %s\"%move)\n",
    "    gamedata, movecode = game.do_move(move)\n",
    "    \n",
    "print(\"Game ended with movecode: \" + MoveCode[movecode])\n",
    "AIs[0].destroy()\n",
    "AIs[1].destroy()"
   ]
  },
  {
   "cell_type": "code",
   "execution_count": null,
   "id": "fa3bd9d0-afa2-4f8e-9bd0-fb47bb54f614",
   "metadata": {},
   "outputs": [],
   "source": []
  },
  {
   "cell_type": "markdown",
   "id": "72318e6e-d725-4c52-9072-5bbc49ab1942",
   "metadata": {},
   "source": [
    "#### Convert move history to string format for Unity Sandbox mode"
   ]
  },
  {
   "cell_type": "code",
   "execution_count": null,
   "id": "0d29c7a1-5837-4c44-9e0d-31f5f35259b9",
   "metadata": {},
   "outputs": [],
   "source": [
    "p = \"\"\n",
    "for move in move_history:\n",
    "    p += 'p' + move + \" \"\n",
    "    \n",
    "print(p)"
   ]
  },
  {
   "cell_type": "code",
   "execution_count": null,
   "id": "940dcd9e-6fbd-4e8e-80c8-93e201abb00c",
   "metadata": {},
   "outputs": [],
   "source": []
  }
 ],
 "metadata": {
  "kernelspec": {
   "display_name": "Python 3 (ipykernel)",
   "language": "python",
   "name": "python3"
  },
  "language_info": {
   "codemirror_mode": {
    "name": "ipython",
    "version": 3
   },
   "file_extension": ".py",
   "mimetype": "text/x-python",
   "name": "python",
   "nbconvert_exporter": "python",
   "pygments_lexer": "ipython3",
   "version": "3.12.4"
  }
 },
 "nbformat": 4,
 "nbformat_minor": 5
}
