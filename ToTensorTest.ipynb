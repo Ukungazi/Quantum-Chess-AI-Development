{
 "cells": [
  {
   "cell_type": "code",
   "execution_count": 1,
   "id": "65271ec6-556d-4346-ba1e-3d33fb3e42b6",
   "metadata": {},
   "outputs": [],
   "source": [
    "from QuantumChessGame import * \n",
    "from ChessPuzzles import *\n",
    "from GameToTensor import *\n",
    "\n",
    "#import torch\n",
    "import time\n",
    "\n",
    "import numpy as np\n",
    "import pandas as pd "
   ]
  },
  {
   "cell_type": "code",
   "execution_count": 2,
   "id": "6c8555b3-9b7e-4b70-af8d-f7f8def907bc",
   "metadata": {},
   "outputs": [
    {
     "name": "stdout",
     "output_type": "stream",
     "text": [
      "Time taken:  0.037152767181396484\n"
     ]
    }
   ],
   "source": [
    "game = QuantumChessGame()\n",
    "game.new_game()\n",
    "game.new_game({'initial_state_fen':get_puzzle_fen(34),  'max_split_moves':[1,1]})\n",
    "gameData = game.get_game_data()\n",
    "\n",
    "start = time.time()\n",
    "for i in range(1000):\n",
    "    gameToTensor(gameData, 1)\n",
    "print(\"Time taken: \", time.time()-start)"
   ]
  },
  {
   "cell_type": "code",
   "execution_count": null,
   "id": "4eb05ab3-de7b-4598-9354-9b920c9bfff6",
   "metadata": {},
   "outputs": [],
   "source": []
  }
 ],
 "metadata": {
  "kernelspec": {
   "display_name": "base",
   "language": "python",
   "name": "python3"
  },
  "language_info": {
   "codemirror_mode": {
    "name": "ipython",
    "version": 3
   },
   "file_extension": ".py",
   "mimetype": "text/x-python",
   "name": "python",
   "nbconvert_exporter": "python",
   "pygments_lexer": "ipython3",
   "version": "3.12.4"
  }
 },
 "nbformat": 4,
 "nbformat_minor": 5
}
