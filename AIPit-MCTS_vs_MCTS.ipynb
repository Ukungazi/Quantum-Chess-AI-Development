{
 "cells": [
  {
   "cell_type": "code",
   "execution_count": 24,
   "id": "19c4e55d-a760-45b4-a969-86f9a170d43d",
   "metadata": {
    "id": "19c4e55d-a760-45b4-a969-86f9a170d43d"
   },
   "outputs": [],
   "source": [
    "from QuantumChessGame import *\n",
    "from ChessPuzzles import *\n",
    "\n",
    "import MCTS\n",
    "from MCTS import MCTS_Node\n",
    "#import MCTS_Material\n",
    "#import MCTS_Move_Order\n",
    "\n",
    "from ChessPuzzles import chess_puzzles\n",
    "import numpy as np\n",
    "import time\n",
    "import random\n",
    "\n",
    "import pandas as pd"
   ]
  },
  {
   "cell_type": "code",
   "execution_count": 25,
   "id": "5d808b91-87fd-4f84-ba22-a0933749a3c6",
   "metadata": {},
   "outputs": [],
   "source": [
    "\"\"\"\n",
    "These functions work together to return the time taken for an action. \n",
    "I commented the print for time elapsedsince it cluttered the output.\n",
    "There is deffinitely room to improve this function since it uses a global variable which can be instead passed as a paramater to save memory.\n",
    "\"\"\"\n",
    "\n",
    "def tic1():\n",
    "    global _start_time1\n",
    "    _start_time1 = time.time()\n",
    "    return\n",
    "    \n",
    "def toc1():\n",
    "    t_diff1 = time.time() - _start_time1\n",
    "    return round(t_diff1, 2) \n",
    "    #t_sec1 = int(np.floor(t_diff1))\n",
    "    #t_frac1 = t_diff1 - t_sec1\n",
    "    #(t_min1, t_sec1) = divmod(t_sec1,60)\n",
    "    #(t_hour1,t_min1) = divmod(t_min1,60)\n",
    "    #print('     Time elapsed: {} hour:{} min:{} sec and frac sec {}'.format(t_hour1,t_min1,t_sec1,t_frac1))"
   ]
  },
  {
   "cell_type": "code",
   "execution_count": 26,
   "id": "956b4348-5f8e-4ef3-8a7a-f2beefcf13eb",
   "metadata": {
    "id": "74259f06-f326-468a-9ffa-7d994b677eda"
   },
   "outputs": [],
   "source": [
    "\"\"\"\n",
    "Each of these three cells basically do the same thing, just defining a interface to use the AI.\n",
    "gamedata.ply is just the player, and simVar is a variable for how many times the search tree finds a \"terminal node\" before stopping\n",
    "a terminal node in this case is just a state in which either side wins.\n",
    "\"\"\"\n",
    "class MCTS_AI_Move_Order:\n",
    "    def __init__(self, player = 1):\n",
    "        return\n",
    "\n",
    "    \n",
    "    def find_best_move(self, game, simVar):\n",
    "        root = MCTS_Move_Order.MCTS_Node(game)\n",
    "        gamedata = game.get_game_data()\n",
    "        bestmove = root.best_action(gamedata.ply, simVar)\n",
    "        return bestmove"
   ]
  },
  {
   "cell_type": "code",
   "execution_count": 27,
   "id": "aa46e564-fc96-426c-81c9-943b8a38a711",
   "metadata": {},
   "outputs": [],
   "source": [
    "class MCTS_AI_Material:\n",
    "    def __init__(self, player = 1):\n",
    "        return\n",
    "\n",
    "    def find_best_move(self, game, simVar):\n",
    "        root = MCTS_Material.MCTS_Node(game)\n",
    "        gamedata = game.get_game_data()\n",
    "        bestmove = root.best_action(gamedata.ply, simVar)\n",
    "        return bestmove"
   ]
  },
  {
   "cell_type": "code",
   "execution_count": 35,
   "id": "b9dae832-a305-4203-8915-ccb4d717af03",
   "metadata": {},
   "outputs": [],
   "source": [
    "class MCTS_AI:\n",
    "    def __init__(self):\n",
    "        return\n",
    "\n",
    "    def find_best_move(self, game, simVar):\n",
    "        root = MCTS_Node(game)\n",
    "        gamedata = game.get_game_data()\n",
    "        print(gamedata.ply)\n",
    "        bestmove = root.best_action(gamedata.ply, simVar)\n",
    "        return bestmove"
   ]
  },
  {
   "cell_type": "code",
   "execution_count": 29,
   "id": "95fe5846-db10-4e6a-a252-c49ae56c8dc2",
   "metadata": {},
   "outputs": [],
   "source": [
    "class MCTS_AI_parallel:\n",
    "    def __init__(self):\n",
    "        return\n",
    "\n",
    "    def find_best_move(self, game, simVar):\n",
    "        root = MCTS_Node(game)\n",
    "        gamedata = game.get_game_data()\n",
    "        bestmove = root.best_action(gamedata.ply, simVar)\n",
    "        return bestmove"
   ]
  },
  {
   "cell_type": "code",
   "execution_count": 36,
   "id": "0ecb0112-bbb5-439d-9379-6ead3b9aae5e",
   "metadata": {},
   "outputs": [
    {
     "name": "stdout",
     "output_type": "stream",
     "text": [
      " +-------------------------------------------------+\n",
      "8|   .     .     .     .     .     .     .     .   |\n",
      "7| 100:k   .   100:K   .     .     .     .     .   |\n",
      "6|   .     .     .     .     .     .     .     .   |\n",
      "5|   .     .     .     .     .     .     .     .   |\n",
      "4|   .     .     .     .     .     .     .     .   |\n",
      "3|   .     .     .     .     .     .     .     .   |\n",
      "2|   .     .     .     .     .     .     .     .   |\n",
      "1|   .   100:R   .     .     .     .     .     .   |\n",
      " +-------------------------------------------------+\n",
      "     a     b     c     d     e     f     g     h\n"
     ]
    }
   ],
   "source": [
    "## Set up a new game\n",
    "game = QuantumChessGame()\n",
    "game.new_game({'initial_state_fen':get_puzzle_fen(33),  'max_split_moves':[0,1]})\n",
    "\n",
    "# Create MCTS AIs \n",
    "#Move_Order_AI = MCTS_AI_Move_Order()\n",
    "\n",
    "#MaterialAI = MCTS_AI_Material()\n",
    "\n",
    "MCTSAI =  MCTS_AI()\n",
    "\n",
    "#ParallelAI =  MCTS_AI_parallel()\n",
    "\n",
    "#prints board\n",
    "game_data = game.get_game_data() \n",
    "\n",
    "game.print_board_and_probabilities()"
   ]
  },
  {
   "cell_type": "markdown",
   "id": "c7735897-ef35-4486-ae8f-e5feb9f6fb57",
   "metadata": {
    "id": "91b700ab-5206-46a3-83d3-de7f204fd983"
   },
   "source": [
    "### MCTS (Capital-Wite) vs MCTS Move Ordering (lowercase-Black)"
   ]
  },
  {
   "cell_type": "code",
   "execution_count": 37,
   "id": "9c74161d-38f4-4f4a-ac70-32e8faf405d4",
   "metadata": {
    "id": "9c74161d-38f4-4f4a-ac70-32e8faf405d4",
    "scrolled": true
   },
   "outputs": [
    {
     "name": "stdout",
     "output_type": "stream",
     "text": [
      "I am sentient, Run.\n",
      "1\n",
      "['a8a7']\n",
      " +-------------------------------------------------+\n",
      "8|   .     .     .     .     .     .     .     .   |\n",
      "7| 100:k 100:P   .     .     .     .     .     .   |\n",
      "6| 100:P   .   100:N   .     .     .     .     .   |\n",
      "5|   .     .     .     .     .     .     .     .   |\n",
      "4|   .     .     .     .     .     .     .     .   |\n",
      "3|   .     .     .     .     .     .     .     .   |\n",
      "2|   .     .     .     .     .     .     .   100:K |\n",
      "1|   .     .     .     .     .     .     .     .   |\n",
      " +-------------------------------------------------+\n",
      "     a     b     c     d     e     f     g     h\n",
      "2\n",
      "2\n",
      "['a8a7', 'c6a7.m1']\n",
      " +-------------------------------------------------+\n",
      "8|   .     .     .     .     .     .     .     .   |\n",
      "7| 100:N 100:P   .     .     .     .     .     .   |\n",
      "6| 100:P   .     .     .     .     .     .     .   |\n",
      "5|   .     .     .     .     .     .     .     .   |\n",
      "4|   .     .     .     .     .     .     .     .   |\n",
      "3|   .     .     .     .     .     .     .     .   |\n",
      "2|   .     .     .     .     .     .     .   100:K |\n",
      "1|   .     .     .     .     .     .     .     .   |\n",
      " +-------------------------------------------------+\n",
      "     a     b     c     d     e     f     g     h\n",
      "Game ended with movecode: WHITE_WIN\n"
     ]
    }
   ],
   "source": [
    "#resets preveous game\n",
    "game.new_game({'initial_state_fen':get_puzzle_fen(34),  'max_split_moves':[0,1]})\n",
    "print(\"I am sentient, Run.\")\n",
    "\n",
    "#starting game\n",
    "movecode = 1\n",
    "gamedata = game.get_game_data()\n",
    "move_history = []\n",
    "random.seed(1)\n",
    "while( movecode == 1 ):\n",
    "    tic1()\n",
    "    if( gamedata.ply % 2 == 0 ):\n",
    "        print(gamedata.ply)\n",
    "        #white\n",
    "        move = MCTSAI.find_best_move(game, 50)\n",
    "        \n",
    "        #value, move = AI.QCminimaxAB(Player, depth, float('-inf'), float('inf'), True) #piece heuristic\n",
    "        #print(f'At depth: {depth}, minimax found move {move} with value {value}')\n",
    "        #move = str(searchresult.bestMove)[2:-1]\n",
    "    else:\n",
    "        #black\n",
    "        move = MCTSAI.find_best_move(game, 50)\n",
    "    toc1()\n",
    "    gamedata, movecode = game.do_move(move)\n",
    "    move_history = game.get_history()\n",
    "    print(move_history)\n",
    "    game.print_board_and_probabilities()\n",
    "    if( len(move_history) > 100 ):\n",
    "        break\n",
    "\n",
    "print(\"Game ended with movecode: \" + MoveCode[movecode])\n",
    "#tbh idk if i do need to delete these AI but it was probably causing memory problems\n",
    "#i ended up commenting these out because they just threw an error constantly on my machine\n",
    "#MCTSAI2.destroy()\n",
    "#MCTSAI1.destroy()"
   ]
  },
  {
   "cell_type": "code",
   "execution_count": 32,
   "id": "4fec8285-64aa-4c31-a25b-42f4734251c6",
   "metadata": {},
   "outputs": [],
   "source": [
    "### MCTS (Capital-Wite) vs MCTS (lowercase-Black)"
   ]
  },
  {
   "cell_type": "code",
   "execution_count": 33,
   "id": "0cec6f59-6068-4599-9244-cf7e83a70d8a",
   "metadata": {},
   "outputs": [
    {
     "name": "stdout",
     "output_type": "stream",
     "text": [
      "0\n"
     ]
    },
    {
     "ename": "ZeroDivisionError",
     "evalue": "integer modulo by zero",
     "output_type": "error",
     "traceback": [
      "\u001b[1;31m---------------------------------------------------------------------------\u001b[0m",
      "\u001b[1;31mZeroDivisionError\u001b[0m                         Traceback (most recent call last)",
      "Cell \u001b[1;32mIn[33], line 14\u001b[0m\n\u001b[0;32m     12\u001b[0m     \u001b[38;5;28mprint\u001b[39m(gamedata\u001b[38;5;241m.\u001b[39mply)\n\u001b[0;32m     13\u001b[0m     \u001b[38;5;66;03m#goes second\u001b[39;00m\n\u001b[1;32m---> 14\u001b[0m     move \u001b[38;5;241m=\u001b[39m MCTSAI\u001b[38;5;241m.\u001b[39mfind_best_move(game, \u001b[38;5;241m3\u001b[39m)\n\u001b[0;32m     16\u001b[0m     \u001b[38;5;66;03m#value, move = AI.QCminimaxAB(Player, depth, float('-inf'), float('inf'), True) #piece heuristic\u001b[39;00m\n\u001b[0;32m     17\u001b[0m     \u001b[38;5;66;03m#print(f'At depth: {depth}, minimax found move {move} with value {value}')\u001b[39;00m\n\u001b[0;32m     18\u001b[0m     \u001b[38;5;66;03m#move = str(searchresult.bestMove)[2:-1]\u001b[39;00m\n\u001b[0;32m     19\u001b[0m \u001b[38;5;28;01melse\u001b[39;00m:\n\u001b[0;32m     20\u001b[0m     \u001b[38;5;66;03m#goes first\u001b[39;00m\n\u001b[0;32m     21\u001b[0m     move \u001b[38;5;241m=\u001b[39m MCTSAI\u001b[38;5;241m.\u001b[39mfind_best_move(game, \u001b[38;5;241m3\u001b[39m)\n",
      "Cell \u001b[1;32mIn[28], line 8\u001b[0m, in \u001b[0;36mMCTS_AI.find_best_move\u001b[1;34m(self, game, simVar)\u001b[0m\n\u001b[0;32m      6\u001b[0m root \u001b[38;5;241m=\u001b[39m MCTS_Node(game)\n\u001b[0;32m      7\u001b[0m gamedata \u001b[38;5;241m=\u001b[39m game\u001b[38;5;241m.\u001b[39mget_game_data()\n\u001b[1;32m----> 8\u001b[0m bestmove \u001b[38;5;241m=\u001b[39m root\u001b[38;5;241m.\u001b[39mbest_action(gamedata\u001b[38;5;241m.\u001b[39mply, simVar)\n\u001b[0;32m      9\u001b[0m \u001b[38;5;28;01mreturn\u001b[39;00m bestmove\n",
      "File \u001b[1;32mc:\\Code\\Quantum-Chess-AI-Development\\MCTS.py:144\u001b[0m, in \u001b[0;36mMCTS_Node.best_action\u001b[1;34m(self, player, simVar, timeout)\u001b[0m\n\u001b[0;32m    141\u001b[0m \u001b[38;5;28;01mif\u001b[39;00m i \u001b[38;5;241m==\u001b[39m \u001b[38;5;241m0\u001b[39m:\n\u001b[0;32m    142\u001b[0m     v\u001b[38;5;241m.\u001b[39mtic1()\n\u001b[1;32m--> 144\u001b[0m reward \u001b[38;5;241m=\u001b[39m v\u001b[38;5;241m.\u001b[39mrollout(player)\n\u001b[0;32m    145\u001b[0m v\u001b[38;5;241m.\u001b[39mbackpropagate(reward)\n\u001b[0;32m    147\u001b[0m \u001b[38;5;28;01mif\u001b[39;00m v\u001b[38;5;241m.\u001b[39mtoc1() \u001b[38;5;241m>\u001b[39m timeout:\n",
      "File \u001b[1;32mc:\\Code\\Quantum-Chess-AI-Development\\MCTS.py:96\u001b[0m, in \u001b[0;36mMCTS_Node.rollout\u001b[1;34m(self, player)\u001b[0m\n\u001b[0;32m     93\u001b[0m     current_rollout_state\u001b[38;5;241m.\u001b[39mrandom_rollout() \u001b[38;5;66;03m#This creates only one QC game and does rollout: very FAST\u001b[39;00m\n\u001b[0;32m     94\u001b[0m     \u001b[38;5;66;03m#backpropagate(player)\u001b[39;00m\n\u001b[1;32m---> 96\u001b[0m \u001b[38;5;28;01mreturn\u001b[39;00m node_value(current_rollout_state, player)\n",
      "File \u001b[1;32mc:\\Code\\Quantum-Chess-AI-Development\\MCTS.py:12\u001b[0m, in \u001b[0;36mnode_value\u001b[1;34m(game_state, AI_player)\u001b[0m\n\u001b[0;32m     10\u001b[0m \u001b[38;5;28;01mdef\u001b[39;00m \u001b[38;5;21mnode_value\u001b[39m(game_state, AI_player):\n\u001b[0;32m     11\u001b[0m     move_code \u001b[38;5;241m=\u001b[39m game_state\u001b[38;5;241m.\u001b[39mmovecode\u001b[38;5;241m.\u001b[39mvalue\n\u001b[1;32m---> 12\u001b[0m     AI_player \u001b[38;5;241m=\u001b[39m \u001b[38;5;241m2\u001b[39m \u001b[38;5;241m%\u001b[39m AI_player\n\u001b[0;32m     13\u001b[0m \u001b[38;5;250m    \u001b[39m\u001b[38;5;124;03m\"\"\"To be used only on terminal node.\u001b[39;00m\n\u001b[0;32m     14\u001b[0m \u001b[38;5;124;03m        Returns 1 if player wins. -1 if opponent wins and 0 is a draw\"\"\"\u001b[39;00m\n\u001b[0;32m     15\u001b[0m     \u001b[38;5;28;01mif\u001b[39;00m game_state\u001b[38;5;241m.\u001b[39mis_game_over():\n",
      "\u001b[1;31mZeroDivisionError\u001b[0m: integer modulo by zero"
     ]
    }
   ],
   "source": [
    "#resets preveous game\n",
    "#game.new_game({'initial_state_fen':get_puzzle_fen(34),  'max_split_moves':[0,1]})\n",
    "game.new_game()\n",
    "#starting game\n",
    "movecode = 1\n",
    "gamedata = game.get_game_data()\n",
    "move_history = []\n",
    "random.seed(1)\n",
    "while( movecode == 1 ):\n",
    "    tic1()\n",
    "    if( gamedata.ply % 2 == 0 ):\n",
    "        print(gamedata.ply)\n",
    "        #goes second\n",
    "        move = MCTSAI.find_best_move(game, 3)\n",
    "        \n",
    "        #value, move = AI.QCminimaxAB(Player, depth, float('-inf'), float('inf'), True) #piece heuristic\n",
    "        #print(f'At depth: {depth}, minimax found move {move} with value {value}')\n",
    "        #move = str(searchresult.bestMove)[2:-1]\n",
    "    else:\n",
    "        #goes first\n",
    "        move = MCTSAI.find_best_move(game, 3)\n",
    "    toc1()\n",
    "    gamedata, movecode = game.do_move(move)\n",
    "    move_history = game.get_history()\n",
    "    print(move_history)\n",
    "    game.print_board_and_probabilities()\n",
    "    if( len(move_history) > 100 ):\n",
    "        break\n",
    "\n",
    "print(\"Game ended with movecode: \" + MoveCode[movecode])\n",
    "#MCTSAI2.destroy()\n",
    "#MCTSAI1.destroy()"
   ]
  },
  {
   "cell_type": "markdown",
   "id": "84e8c835-96ce-4352-90eb-29db03c78534",
   "metadata": {
    "id": "5aad2ce2-1c1b-40d7-9f59-fb0c29377c4a"
   },
   "source": [
    "### MCTS (Capital-Wite) vs MCTS Material (lowercase-Black)"
   ]
  },
  {
   "cell_type": "code",
   "execution_count": null,
   "id": "690a4a2e-74d3-42a9-ad3a-2a923acb079e",
   "metadata": {
    "id": "814dc2b7-ffa6-4c98-8ce9-f9afac5c2a57",
    "outputId": "940f6bb4-2b2f-4bdc-912e-f06a6055c4e0",
    "scrolled": true
   },
   "outputs": [],
   "source": [
    "#resets preveous game\n",
    "game = QuantumChessGame()\n",
    "game.new_game({'initial_state_fen':get_puzzle_fen(34),  'max_split_moves':[0,1]})\n",
    "\n",
    "#starting game\n",
    "movecode = 1\n",
    "gamedata = game.get_game_data()\n",
    "move_history = []\n",
    "random.seed(1)\n",
    "while( movecode == 1 ):\n",
    "    tic1()\n",
    "    if( gamedata.ply % 2 == 0 ):\n",
    "        #goes second\n",
    "        move = MaterialAI.find_best_move(game, 40)\n",
    "        \n",
    "        #value, move = AI.QCminimaxAB(Player, depth, float('-inf'), float('inf'), True) #piece heuristic\n",
    "        #print(f'At depth: {depth}, minimax found move {move} with value {value}')\n",
    "        #move = str(searchresult.bestMove)[2:-1]\n",
    "    else:\n",
    "        #goes first\n",
    "        move = MaterialAI.find_best_move(game, 30)\n",
    "    toc1()\n",
    "    gamedata, movecode = game.do_move(move)\n",
    "    move_history = game.get_history()\n",
    "    print(move_history)\n",
    "    game.print_board_and_probabilities()\n",
    "    if( len(move_history) > 100 ):\n",
    "        break\n",
    "\n",
    "print(\"Game ended with movecode: \" + MoveCode[movecode])\n",
    "#MCTSAI2.destroy()\n",
    "#MCTSAI1.destroy()"
   ]
  },
  {
   "cell_type": "markdown",
   "id": "72318e6e-d725-4c52-9072-5bbc49ab1942",
   "metadata": {
    "id": "72318e6e-d725-4c52-9072-5bbc49ab1942"
   },
   "source": [
    "#### Convert move history to string format for Unity Sandbox mode"
   ]
  },
  {
   "cell_type": "code",
   "execution_count": null,
   "id": "0d29c7a1-5837-4c44-9e0d-31f5f35259b9",
   "metadata": {
    "colab": {
     "base_uri": "https://localhost:8080/",
     "height": 211
    },
    "executionInfo": {
     "elapsed": 329,
     "status": "error",
     "timestamp": 1720469338143,
     "user": {
      "displayName": "Nihad Nazmul",
      "userId": "07220188019262077547"
     },
     "user_tz": 300
    },
    "id": "0d29c7a1-5837-4c44-9e0d-31f5f35259b9",
    "outputId": "2d196364-8baa-4424-f5fc-67a70a472e77"
   },
   "outputs": [],
   "source": [
    "p = \"\"\n",
    "for move in move_history:\n",
    "    p += 'p' + move + \" \"\n",
    "\n",
    "print(p)"
   ]
  }
 ],
 "metadata": {
  "colab": {
   "provenance": []
  },
  "kernelspec": {
   "display_name": "base",
   "language": "python",
   "name": "python3"
  },
  "language_info": {
   "codemirror_mode": {
    "name": "ipython",
    "version": 3
   },
   "file_extension": ".py",
   "mimetype": "text/x-python",
   "name": "python",
   "nbconvert_exporter": "python",
   "pygments_lexer": "ipython3",
   "version": "3.12.4"
  }
 },
 "nbformat": 4,
 "nbformat_minor": 5
}
