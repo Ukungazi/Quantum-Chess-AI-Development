{
 "cells": [
  {
   "cell_type": "code",
   "execution_count": 11,
   "id": "19c4e55d-a760-45b4-a969-86f9a170d43d",
   "metadata": {
    "id": "19c4e55d-a760-45b4-a969-86f9a170d43d"
   },
   "outputs": [],
   "source": [
    "from QuantumChessGame import *\n",
    "from ChessPuzzles import *\n",
    "\n",
    "from MCTS import MCTS_Node\n",
    "#import MCTS_Material\n",
    "#import MCTS_Move_Order\n",
    "\n",
    "from ChessPuzzles import chess_puzzles\n",
    "import numpy as np\n",
    "import time\n",
    "import random\n",
    "\n",
    "import pandas as pd"
   ]
  },
  {
   "cell_type": "code",
   "execution_count": 13,
   "id": "5d808b91-87fd-4f84-ba22-a0933749a3c6",
   "metadata": {},
   "outputs": [],
   "source": [
    "\"\"\"\n",
    "These functions work together to return the time taken for an action. \n",
    "I commented the print for time elapsedsince it cluttered the output.\n",
    "There is deffinitely room to improve this function since it uses a global variable which can be instead passed as a paramater to save memory.\n",
    "\"\"\"\n",
    "\n",
    "def tic1():\n",
    "    global _start_time1\n",
    "    _start_time1 = time.time()\n",
    "    return\n",
    "    \n",
    "def toc1():\n",
    "    t_diff1 = time.time() - _start_time1\n",
    "    return round(t_diff1, 2) \n",
    "    #t_sec1 = int(np.floor(t_diff1))\n",
    "    #t_frac1 = t_diff1 - t_sec1\n",
    "    #(t_min1, t_sec1) = divmod(t_sec1,60)\n",
    "    #(t_hour1,t_min1) = divmod(t_min1,60)\n",
    "    #print('     Time elapsed: {} hour:{} min:{} sec and frac sec {}'.format(t_hour1,t_min1,t_sec1,t_frac1))"
   ]
  },
  {
   "cell_type": "code",
   "execution_count": null,
   "id": "956b4348-5f8e-4ef3-8a7a-f2beefcf13eb",
   "metadata": {
    "id": "74259f06-f326-468a-9ffa-7d994b677eda"
   },
   "outputs": [],
   "source": [
    "\"\"\"\n",
    "Each of these three cells basically do the same thing, just defining a interface to use the AI.\n",
    "gamedata.ply is just the player, and simVar is a variable for how many times the search tree finds a \"terminal node\" before stopping\n",
    "a terminal node in this case is just a state in which either side wins.\n",
    "\"\"\"\n",
    "class MCTS_AI_Move_Order:\n",
    "    def __init__(self, player = 1):\n",
    "        return\n",
    "\n",
    "    \n",
    "    def find_best_move(self, game, simVar):\n",
    "        root = MCTS_Move_Order.MCTS_Node(game)\n",
    "        gamedata = game.get_game_data()\n",
    "        bestmove = root.best_action(gamedata.ply, simVar)\n",
    "        return bestmove"
   ]
  },
  {
   "cell_type": "code",
   "execution_count": null,
   "id": "aa46e564-fc96-426c-81c9-943b8a38a711",
   "metadata": {},
   "outputs": [],
   "source": [
    "class MCTS_AI_Material:\n",
    "    def __init__(self, player = 1):\n",
    "        return\n",
    "\n",
    "    def find_best_move(self, game, simVar):\n",
    "        root = MCTS_Material.MCTS_Node(game)\n",
    "        gamedata = game.get_game_data()\n",
    "        bestmove = root.best_action(gamedata.ply, simVar)\n",
    "        return bestmove"
   ]
  },
  {
   "cell_type": "code",
   "execution_count": 1,
   "id": "b9dae832-a305-4203-8915-ccb4d717af03",
   "metadata": {},
   "outputs": [],
   "source": [
    "class MCTS_AI:\n",
    "    def __init__(self):\n",
    "        return\n",
    "\n",
    "    def find_best_move(self, game, simVar):\n",
    "        root = MCTS_Node(game)\n",
    "        gamedata = game.get_game_data()\n",
    "        bestmove = root.best_action(gamedata.ply, simVar)\n",
    "        return bestmove"
   ]
  },
  {
   "cell_type": "code",
   "execution_count": 3,
   "id": "95fe5846-db10-4e6a-a252-c49ae56c8dc2",
   "metadata": {},
   "outputs": [],
   "source": [
    "class MCTS_AI_parallel:\n",
    "    def __init__(self):\n",
    "        return\n",
    "\n",
    "    def find_best_move(self, game, simVar):\n",
    "        root = MCTS_Node(game)\n",
    "        gamedata = game.get_game_data()\n",
    "        bestmove = root.best_action(gamedata.ply, simVar)\n",
    "        return bestmove"
   ]
  },
  {
   "cell_type": "code",
   "execution_count": 5,
   "id": "0ecb0112-bbb5-439d-9379-6ead3b9aae5e",
   "metadata": {},
   "outputs": [
    {
     "ename": "NameError",
     "evalue": "name 'QuantumChessGame' is not defined",
     "output_type": "error",
     "traceback": [
      "\u001b[1;31m---------------------------------------------------------------------------\u001b[0m",
      "\u001b[1;31mNameError\u001b[0m                                 Traceback (most recent call last)",
      "Cell \u001b[1;32mIn[5], line 2\u001b[0m\n\u001b[0;32m      1\u001b[0m \u001b[38;5;66;03m## Set up a new game\u001b[39;00m\n\u001b[1;32m----> 2\u001b[0m game \u001b[38;5;241m=\u001b[39m QuantumChessGame()\n\u001b[0;32m      3\u001b[0m game\u001b[38;5;241m.\u001b[39mnew_game({\u001b[38;5;124m'\u001b[39m\u001b[38;5;124minitial_state_fen\u001b[39m\u001b[38;5;124m'\u001b[39m:get_puzzle_fen(\u001b[38;5;241m33\u001b[39m),  \u001b[38;5;124m'\u001b[39m\u001b[38;5;124mmax_split_moves\u001b[39m\u001b[38;5;124m'\u001b[39m:[\u001b[38;5;241m0\u001b[39m,\u001b[38;5;241m1\u001b[39m]})\n\u001b[0;32m      5\u001b[0m \u001b[38;5;66;03m# Create MCTS AIs \u001b[39;00m\n\u001b[0;32m      6\u001b[0m \u001b[38;5;66;03m#Move_Order_AI = MCTS_AI_Move_Order()\u001b[39;00m\n\u001b[0;32m      7\u001b[0m \n\u001b[0;32m      8\u001b[0m \u001b[38;5;66;03m#MaterialAI = MCTS_AI_Material()\u001b[39;00m\n",
      "\u001b[1;31mNameError\u001b[0m: name 'QuantumChessGame' is not defined"
     ]
    }
   ],
   "source": [
    "## Set up a new game\n",
    "game = QuantumChessGame()\n",
    "game.new_game({'initial_state_fen':get_puzzle_fen(33),  'max_split_moves':[0,1]})\n",
    "\n",
    "# Create MCTS AIs \n",
    "#Move_Order_AI = MCTS_AI_Move_Order()\n",
    "\n",
    "#MaterialAI = MCTS_AI_Material()\n",
    "\n",
    "MCTSAI =  MCTS_AI()\n",
    "\n",
    "#ParallelAI =  MCTS_AI_parallel()\n",
    "\n",
    "#prints board\n",
    "game_data = game.get_game_data() \n",
    "\n",
    "game.print_board_and_probabilities()"
   ]
  },
  {
   "cell_type": "markdown",
   "id": "c7735897-ef35-4486-ae8f-e5feb9f6fb57",
   "metadata": {
    "id": "91b700ab-5206-46a3-83d3-de7f204fd983"
   },
   "source": [
    "### MCTS (Capital-Wite) vs MCTS Move Ordering (lowercase-Black)"
   ]
  },
  {
   "cell_type": "code",
   "execution_count": null,
   "id": "9c74161d-38f4-4f4a-ac70-32e8faf405d4",
   "metadata": {
    "id": "9c74161d-38f4-4f4a-ac70-32e8faf405d4",
    "scrolled": true
   },
   "outputs": [],
   "source": [
    "#resets preveous game\n",
    "game.new_game({'initial_state_fen':get_puzzle_fen(34),  'max_split_moves':[0,1]})\n",
    "print(\"I am sentient, Run.\")\n",
    "\n",
    "#starting game\n",
    "movecode = 1\n",
    "gamedata = game.get_game_data()\n",
    "move_history = []\n",
    "random.seed(1)\n",
    "while( movecode == 1 ):\n",
    "    tic1()\n",
    "    if( gamedata.ply % 2 == 0 ):\n",
    "        print(gamedata.ply)\n",
    "        #white\n",
    "        move = MCTSAI.find_best_move(game, 12)\n",
    "        \n",
    "        #value, move = AI.QCminimaxAB(Player, depth, float('-inf'), float('inf'), True) #piece heuristic\n",
    "        #print(f'At depth: {depth}, minimax found move {move} with value {value}')\n",
    "        #move = str(searchresult.bestMove)[2:-1]\n",
    "    else:\n",
    "        #black\n",
    "        move = ParallelAI.find_best_move(game, 12)\n",
    "    toc1()\n",
    "    gamedata, movecode = game.do_move(move)\n",
    "    move_history = game.get_history()\n",
    "    print(move_history)\n",
    "    game.print_board_and_probabilities()\n",
    "    if( len(move_history) > 100 ):\n",
    "        break\n",
    "\n",
    "print(\"Game ended with movecode: \" + MoveCode[movecode])\n",
    "#tbh idk if i do need to delete these AI but it was probably causing memory problems\n",
    "#i ended up commenting these out because they just threw an error constantly on my machine\n",
    "#MCTSAI2.destroy()\n",
    "#MCTSAI1.destroy()"
   ]
  },
  {
   "cell_type": "code",
   "execution_count": null,
   "id": "4fec8285-64aa-4c31-a25b-42f4734251c6",
   "metadata": {},
   "outputs": [],
   "source": [
    "### MCTS (Capital-Wite) vs MCTS (lowercase-Black)"
   ]
  },
  {
   "cell_type": "code",
   "execution_count": 27,
   "id": "0cec6f59-6068-4599-9244-cf7e83a70d8a",
   "metadata": {},
   "outputs": [
    {
     "name": "stdout",
     "output_type": "stream",
     "text": [
      "0\n",
      "['f2f4']\n",
      " +-------------------------------------------------+\n",
      "8| 100:r 100:n 100:b 100:q 100:k 100:b 100:n 100:r |\n",
      "7| 100:p 100:p 100:p 100:p 100:p 100:p 100:p 100:p |\n",
      "6|   .     .     .     .     .     .     .     .   |\n",
      "5|   .     .     .     .     .     .     .     .   |\n",
      "4|   .     .     .     .     .   100:P   .     .   |\n",
      "3|   .     .     .     .     .     .     .     .   |\n",
      "2| 100:P 100:P 100:P 100:P 100:P   .   100:P 100:P |\n",
      "1| 100:R 100:N 100:B 100:Q 100:K 100:B 100:N 100:R |\n",
      " +-------------------------------------------------+\n",
      "     a     b     c     d     e     f     g     h\n",
      "['f2f4', 'h7h5']\n",
      " +-------------------------------------------------+\n",
      "8| 100:r 100:n 100:b 100:q 100:k 100:b 100:n 100:r |\n",
      "7| 100:p 100:p 100:p 100:p 100:p 100:p 100:p   .   |\n",
      "6|   .     .     .     .     .     .     .     .   |\n",
      "5|   .     .     .     .     .     .     .   100:p |\n",
      "4|   .     .     .     .     .   100:P   .     .   |\n",
      "3|   .     .     .     .     .     .     .     .   |\n",
      "2| 100:P 100:P 100:P 100:P 100:P   .   100:P 100:P |\n",
      "1| 100:R 100:N 100:B 100:Q 100:K 100:B 100:N 100:R |\n",
      " +-------------------------------------------------+\n",
      "     a     b     c     d     e     f     g     h\n",
      "2\n",
      "['f2f4', 'h7h5', 'a2a3']\n",
      " +-------------------------------------------------+\n",
      "8| 100:r 100:n 100:b 100:q 100:k 100:b 100:n 100:r |\n",
      "7| 100:p 100:p 100:p 100:p 100:p 100:p 100:p   .   |\n",
      "6|   .     .     .     .     .     .     .     .   |\n",
      "5|   .     .     .     .     .     .     .   100:p |\n",
      "4|   .     .     .     .     .   100:P   .     .   |\n",
      "3| 100:P   .     .     .     .     .     .     .   |\n",
      "2|   .   100:P 100:P 100:P 100:P   .   100:P 100:P |\n",
      "1| 100:R 100:N 100:B 100:Q 100:K 100:B 100:N 100:R |\n",
      " +-------------------------------------------------+\n",
      "     a     b     c     d     e     f     g     h\n"
     ]
    },
    {
     "ename": "KeyboardInterrupt",
     "evalue": "",
     "output_type": "error",
     "traceback": [
      "\u001b[1;31m---------------------------------------------------------------------------\u001b[0m",
      "\u001b[1;31mKeyboardInterrupt\u001b[0m                         Traceback (most recent call last)",
      "Cell \u001b[1;32mIn[27], line 21\u001b[0m\n\u001b[0;32m     14\u001b[0m     move \u001b[38;5;241m=\u001b[39m MCTSAI\u001b[38;5;241m.\u001b[39mfind_best_move(game, \u001b[38;5;241m3\u001b[39m)\n\u001b[0;32m     16\u001b[0m     \u001b[38;5;66;03m#value, move = AI.QCminimaxAB(Player, depth, float('-inf'), float('inf'), True) #piece heuristic\u001b[39;00m\n\u001b[0;32m     17\u001b[0m     \u001b[38;5;66;03m#print(f'At depth: {depth}, minimax found move {move} with value {value}')\u001b[39;00m\n\u001b[0;32m     18\u001b[0m     \u001b[38;5;66;03m#move = str(searchresult.bestMove)[2:-1]\u001b[39;00m\n\u001b[0;32m     19\u001b[0m \u001b[38;5;28;01melse\u001b[39;00m:\n\u001b[0;32m     20\u001b[0m     \u001b[38;5;66;03m#goes first\u001b[39;00m\n\u001b[1;32m---> 21\u001b[0m     move \u001b[38;5;241m=\u001b[39m MCTSAI\u001b[38;5;241m.\u001b[39mfind_best_move(game, \u001b[38;5;241m3\u001b[39m)\n\u001b[0;32m     22\u001b[0m toc1()\n\u001b[0;32m     23\u001b[0m gamedata, movecode \u001b[38;5;241m=\u001b[39m game\u001b[38;5;241m.\u001b[39mdo_move(move)\n",
      "Cell \u001b[1;32mIn[15], line 8\u001b[0m, in \u001b[0;36mMCTS_AI.find_best_move\u001b[1;34m(self, game, simVar)\u001b[0m\n\u001b[0;32m      6\u001b[0m root \u001b[38;5;241m=\u001b[39m MCTS_Node(game)\n\u001b[0;32m      7\u001b[0m gamedata \u001b[38;5;241m=\u001b[39m game\u001b[38;5;241m.\u001b[39mget_game_data()\n\u001b[1;32m----> 8\u001b[0m bestmove \u001b[38;5;241m=\u001b[39m root\u001b[38;5;241m.\u001b[39mbest_action(gamedata\u001b[38;5;241m.\u001b[39mply, simVar)\n\u001b[0;32m      9\u001b[0m \u001b[38;5;28;01mreturn\u001b[39;00m bestmove\n",
      "File \u001b[1;32m~\\Documents\\WIU_QuantumChessSIR\\QuantumChess-MCTS-Study\\MCTS.py:143\u001b[0m, in \u001b[0;36mMCTS_Node.best_action\u001b[1;34m(self, player, simVar, timeout)\u001b[0m\n\u001b[0;32m    140\u001b[0m \u001b[38;5;28;01mif\u001b[39;00m i \u001b[38;5;241m==\u001b[39m \u001b[38;5;241m0\u001b[39m:\n\u001b[0;32m    141\u001b[0m     v\u001b[38;5;241m.\u001b[39mtic1()\n\u001b[1;32m--> 143\u001b[0m reward \u001b[38;5;241m=\u001b[39m v\u001b[38;5;241m.\u001b[39mrollout(player)\n\u001b[0;32m    144\u001b[0m v\u001b[38;5;241m.\u001b[39mbackpropagate(reward)\n\u001b[0;32m    146\u001b[0m \u001b[38;5;28;01mif\u001b[39;00m v\u001b[38;5;241m.\u001b[39mtoc1() \u001b[38;5;241m>\u001b[39m timeout:\n",
      "File \u001b[1;32m~\\Documents\\WIU_QuantumChessSIR\\QuantumChess-MCTS-Study\\MCTS.py:92\u001b[0m, in \u001b[0;36mMCTS_Node.rollout\u001b[1;34m(self, player)\u001b[0m\n\u001b[0;32m     84\u001b[0m \u001b[38;5;250m\u001b[39m\u001b[38;5;124;03m\"\"\"\u001b[39;00m\n\u001b[0;32m     85\u001b[0m \u001b[38;5;124;03mThe following logic leads to creation of new game state from the Quantum Game State: SLOW\u001b[39;00m\n\u001b[0;32m     86\u001b[0m \u001b[38;5;124;03mwhile not current_rollout_state.is_game_over():\u001b[39;00m\n\u001b[1;32m   (...)\u001b[0m\n\u001b[0;32m     89\u001b[0m \u001b[38;5;124;03m    current_rollout_state.do_move(action)  #do_move modifies the current state and returns\u001b[39;00m\n\u001b[0;32m     90\u001b[0m \u001b[38;5;124;03m\"\"\"\u001b[39;00m\n\u001b[0;32m     91\u001b[0m \u001b[38;5;28;01mwhile\u001b[39;00m \u001b[38;5;129;01mnot\u001b[39;00m current_rollout_state\u001b[38;5;241m.\u001b[39mis_game_over():\n\u001b[1;32m---> 92\u001b[0m     current_rollout_state\u001b[38;5;241m.\u001b[39mrandom_rollout() \u001b[38;5;66;03m#This creates only one QC game and does rollout: very FAST\u001b[39;00m\n\u001b[0;32m     93\u001b[0m     \u001b[38;5;66;03m#backpropagate(player)\u001b[39;00m\n\u001b[0;32m     95\u001b[0m \u001b[38;5;28;01mreturn\u001b[39;00m node_value(current_rollout_state, player)\n",
      "File \u001b[1;32m~\\Documents\\WIU_QuantumChessSIR\\QuantumChess-MCTS-Study\\QuantumChessGame.py:328\u001b[0m, in \u001b[0;36mQuantumChessGame.random_rollout\u001b[1;34m(self)\u001b[0m\n\u001b[0;32m    323\u001b[0m \u001b[38;5;28;01mdef\u001b[39;00m \u001b[38;5;21mrandom_rollout\u001b[39m(\u001b[38;5;28mself\u001b[39m):\n\u001b[0;32m    324\u001b[0m     \n\u001b[0;32m    325\u001b[0m     \u001b[38;5;66;03m#game_copy = self.__copy__() # new copy is not needed\u001b[39;00m\n\u001b[0;32m    327\u001b[0m     \u001b[38;5;28;01mwhile\u001b[39;00m \u001b[38;5;129;01mnot\u001b[39;00m \u001b[38;5;28mself\u001b[39m\u001b[38;5;241m.\u001b[39mis_game_over():\n\u001b[1;32m--> 328\u001b[0m         possible_moves \u001b[38;5;241m=\u001b[39m compacted_moves(\u001b[38;5;28mself\u001b[39m,\u001b[38;5;28mself\u001b[39m\u001b[38;5;241m.\u001b[39mget_legal_moves())\n\u001b[0;32m    329\u001b[0m         action \u001b[38;5;241m=\u001b[39m possible_moves[np\u001b[38;5;241m.\u001b[39mrandom\u001b[38;5;241m.\u001b[39mrandint(\u001b[38;5;28mlen\u001b[39m(possible_moves))]\n\u001b[0;32m    330\u001b[0m         _ , move_code \u001b[38;5;241m=\u001b[39m \u001b[38;5;28mself\u001b[39m\u001b[38;5;241m.\u001b[39mdo_move(action)\n",
      "File \u001b[1;32m~\\Documents\\WIU_QuantumChessSIR\\QuantumChess-MCTS-Study\\QuantumChessGame.py:273\u001b[0m, in \u001b[0;36mQuantumChessGame.get_legal_moves\u001b[1;34m(self, max_num_moves)\u001b[0m\n\u001b[0;32m    271\u001b[0m moves \u001b[38;5;241m=\u001b[39m (Move\u001b[38;5;241m*\u001b[39mmax_num_moves)()\n\u001b[0;32m    272\u001b[0m out_size \u001b[38;5;241m=\u001b[39m c_size_t()\n\u001b[1;32m--> 273\u001b[0m \u001b[38;5;28mself\u001b[39m\u001b[38;5;241m.\u001b[39mQChess_lib\u001b[38;5;241m.\u001b[39mget_legal_moves(\u001b[38;5;28mself\u001b[39m\u001b[38;5;241m.\u001b[39mgame_pointer, moves, sizeof(Move)\u001b[38;5;241m*\u001b[39mmax_num_moves, byref(out_size) )\n\u001b[0;32m    275\u001b[0m allMoves \u001b[38;5;241m=\u001b[39m []\n\u001b[0;32m    276\u001b[0m \u001b[38;5;28;01mfor\u001b[39;00m move \u001b[38;5;129;01min\u001b[39;00m moves[:out_size\u001b[38;5;241m.\u001b[39mvalue]:\n",
      "\u001b[1;31mKeyboardInterrupt\u001b[0m: "
     ]
    }
   ],
   "source": [
    "#resets preveous game\n",
    "#game.new_game({'initial_state_fen':get_puzzle_fen(34),  'max_split_moves':[0,1]})\n",
    "game.new_game()\n",
    "#starting game\n",
    "movecode = 1\n",
    "gamedata = game.get_game_data()\n",
    "move_history = []\n",
    "random.seed(1)\n",
    "while( movecode == 1 ):\n",
    "    tic1()\n",
    "    if( gamedata.ply % 2 == 0 ):\n",
    "        print(gamedata.ply)\n",
    "        #goes second\n",
    "        move = MCTSAI.find_best_move(game, 3)\n",
    "        \n",
    "        #value, move = AI.QCminimaxAB(Player, depth, float('-inf'), float('inf'), True) #piece heuristic\n",
    "        #print(f'At depth: {depth}, minimax found move {move} with value {value}')\n",
    "        #move = str(searchresult.bestMove)[2:-1]\n",
    "    else:\n",
    "        #goes first\n",
    "        move = MCTSAI.find_best_move(game, 3)\n",
    "    toc1()\n",
    "    gamedata, movecode = game.do_move(move)\n",
    "    move_history = game.get_history()\n",
    "    print(move_history)\n",
    "    game.print_board_and_probabilities()\n",
    "    if( len(move_history) > 100 ):\n",
    "        break\n",
    "\n",
    "print(\"Game ended with movecode: \" + MoveCode[movecode])\n",
    "#MCTSAI2.destroy()\n",
    "#MCTSAI1.destroy()"
   ]
  },
  {
   "cell_type": "markdown",
   "id": "84e8c835-96ce-4352-90eb-29db03c78534",
   "metadata": {
    "id": "5aad2ce2-1c1b-40d7-9f59-fb0c29377c4a"
   },
   "source": [
    "### MCTS (Capital-Wite) vs MCTS Material (lowercase-Black)"
   ]
  },
  {
   "cell_type": "code",
   "execution_count": null,
   "id": "690a4a2e-74d3-42a9-ad3a-2a923acb079e",
   "metadata": {
    "id": "814dc2b7-ffa6-4c98-8ce9-f9afac5c2a57",
    "outputId": "940f6bb4-2b2f-4bdc-912e-f06a6055c4e0",
    "scrolled": true
   },
   "outputs": [],
   "source": [
    "#resets preveous game\n",
    "game = QuantumChessGame()\n",
    "game.new_game({'initial_state_fen':get_puzzle_fen(34),  'max_split_moves':[0,1]})\n",
    "\n",
    "#starting game\n",
    "movecode = 1\n",
    "gamedata = game.get_game_data()\n",
    "move_history = []\n",
    "random.seed(1)\n",
    "while( movecode == 1 ):\n",
    "    tic1()\n",
    "    if( gamedata.ply % 2 == 0 ):\n",
    "        #goes second\n",
    "        move = MaterialAI.find_best_move(game, 40)\n",
    "        \n",
    "        #value, move = AI.QCminimaxAB(Player, depth, float('-inf'), float('inf'), True) #piece heuristic\n",
    "        #print(f'At depth: {depth}, minimax found move {move} with value {value}')\n",
    "        #move = str(searchresult.bestMove)[2:-1]\n",
    "    else:\n",
    "        #goes first\n",
    "        move = MaterialAI.find_best_move(game, 30)\n",
    "    toc1()\n",
    "    gamedata, movecode = game.do_move(move)\n",
    "    move_history = game.get_history()\n",
    "    print(move_history)\n",
    "    game.print_board_and_probabilities()\n",
    "    if( len(move_history) > 100 ):\n",
    "        break\n",
    "\n",
    "print(\"Game ended with movecode: \" + MoveCode[movecode])\n",
    "#MCTSAI2.destroy()\n",
    "#MCTSAI1.destroy()"
   ]
  },
  {
   "cell_type": "markdown",
   "id": "72318e6e-d725-4c52-9072-5bbc49ab1942",
   "metadata": {
    "id": "72318e6e-d725-4c52-9072-5bbc49ab1942"
   },
   "source": [
    "#### Convert move history to string format for Unity Sandbox mode"
   ]
  },
  {
   "cell_type": "code",
   "execution_count": null,
   "id": "0d29c7a1-5837-4c44-9e0d-31f5f35259b9",
   "metadata": {
    "colab": {
     "base_uri": "https://localhost:8080/",
     "height": 211
    },
    "executionInfo": {
     "elapsed": 329,
     "status": "error",
     "timestamp": 1720469338143,
     "user": {
      "displayName": "Nihad Nazmul",
      "userId": "07220188019262077547"
     },
     "user_tz": 300
    },
    "id": "0d29c7a1-5837-4c44-9e0d-31f5f35259b9",
    "outputId": "2d196364-8baa-4424-f5fc-67a70a472e77"
   },
   "outputs": [],
   "source": [
    "p = \"\"\n",
    "for move in move_history:\n",
    "    p += 'p' + move + \" \"\n",
    "\n",
    "print(p)"
   ]
  }
 ],
 "metadata": {
  "colab": {
   "provenance": []
  },
  "kernelspec": {
   "display_name": "Python 3 (ipykernel)",
   "language": "python",
   "name": "python3"
  },
  "language_info": {
   "codemirror_mode": {
    "name": "ipython",
    "version": 3
   },
   "file_extension": ".py",
   "mimetype": "text/x-python",
   "name": "python",
   "nbconvert_exporter": "python",
   "pygments_lexer": "ipython3",
   "version": "3.12.4"
  }
 },
 "nbformat": 4,
 "nbformat_minor": 5
}
