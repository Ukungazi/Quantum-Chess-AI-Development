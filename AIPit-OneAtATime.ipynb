{
 "cells": [
  {
   "cell_type": "code",
   "execution_count": 1,
   "id": "19c4e55d-a760-45b4-a969-86f9a170d43d",
   "metadata": {
    "id": "19c4e55d-a760-45b4-a969-86f9a170d43d"
   },
   "outputs": [],
   "source": [
    "from QuantumChessGame import *\n",
    "\n",
    "# Use the compiled AI, not the python version\n",
    "#from QuantumChessAI import *\n",
    "from ExpectiMinimaxAI import *\n",
    "#importing from minimax\n",
    "from MinimaxAlphaBeta import MiniMaxAI, QuantumMiniMaxAI, order_moves, str_to_square_number\n",
    "\n",
    "\n",
    "from MCTS_Optm import MCTS_Node\n",
    "\n",
    "from ChessPuzzles import chess_puzzles\n",
    "import numpy as np\n",
    "import time\n",
    "import random\n",
    "\n",
    "class MCTS_AI:\n",
    "    def __init__(self):\n",
    "        return\n",
    "\n",
    "    def find_best_mcts_move(self, game):\n",
    "        root = MCTS_Node(game)\n",
    "\n",
    "        gamedata = game.get_game_data()\n",
    "        bestmove = root.best_action(gamedata.ply)\n",
    "        return bestmove"
   ]
  },
  {
   "cell_type": "markdown",
   "id": "5aad2ce2-1c1b-40d7-9f59-fb0c29377c4a",
   "metadata": {
    "id": "5aad2ce2-1c1b-40d7-9f59-fb0c29377c4a"
   },
   "source": [
    "### Minimax vs MCTS"
   ]
  },
  {
   "cell_type": "raw",
   "id": "57623886-1537-46ff-9e3a-b95f5e4ce105",
   "metadata": {
    "id": "74259f06-f326-468a-9ffa-7d994b677eda"
   },
   "source": [
    "class MCTS_AI:\n",
    "    def __init__(self):\n",
    "        return\n",
    "\n",
    "    def find_best_move(self, game):\n",
    "        root = MCTS_Node(game)\n",
    "\n",
    "        gamedata = game.get_game_data()\n",
    "        bestmove = root.best_action(gamedata.ply)\n",
    "        return bestmove"
   ]
  },
  {
   "cell_type": "code",
   "execution_count": 4,
   "id": "690a4a2e-74d3-42a9-ad3a-2a923acb079e",
   "metadata": {
    "id": "814dc2b7-ffa6-4c98-8ce9-f9afac5c2a57",
    "outputId": "940f6bb4-2b2f-4bdc-912e-f06a6055c4e0",
    "scrolled": true
   },
   "outputs": [
    {
     "ename": "OSError",
     "evalue": "exception: access violation reading 0x00000000000014A8",
     "output_type": "error",
     "traceback": [
      "\u001b[1;31m---------------------------------------------------------------------------\u001b[0m",
      "\u001b[1;31mOSError\u001b[0m                                   Traceback (most recent call last)",
      "Cell \u001b[1;32mIn[4], line 21\u001b[0m\n\u001b[0;32m     18\u001b[0m MCTSAI \u001b[38;5;241m=\u001b[39m MCTS_AI()\n\u001b[0;32m     20\u001b[0m movecode \u001b[38;5;241m=\u001b[39m \u001b[38;5;241m1\u001b[39m\n\u001b[1;32m---> 21\u001b[0m gamedata \u001b[38;5;241m=\u001b[39m game\u001b[38;5;241m.\u001b[39mget_game_data()\n\u001b[0;32m     22\u001b[0m move_history \u001b[38;5;241m=\u001b[39m []\n\u001b[0;32m     23\u001b[0m random\u001b[38;5;241m.\u001b[39mseed(\u001b[38;5;241m0\u001b[39m)\n",
      "File \u001b[1;32m~\\Documents\\WIU_QuantumChessSIR\\QuantumChess-MCTS-Study\\QuantumChessGame.py:249\u001b[0m, in \u001b[0;36mQuantumChessGame.get_game_data\u001b[1;34m(self)\u001b[0m\n\u001b[0;32m    248\u001b[0m \u001b[38;5;28;01mdef\u001b[39;00m \u001b[38;5;21mget_game_data\u001b[39m(\u001b[38;5;28mself\u001b[39m):\n\u001b[1;32m--> 249\u001b[0m     \u001b[38;5;28mself\u001b[39m\u001b[38;5;241m.\u001b[39mQChess_lib\u001b[38;5;241m.\u001b[39mget_game_data(\u001b[38;5;28mself\u001b[39m\u001b[38;5;241m.\u001b[39mgame_pointer, byref(\u001b[38;5;28mself\u001b[39m\u001b[38;5;241m.\u001b[39mgamedata))\n\u001b[0;32m    250\u001b[0m     \u001b[38;5;28;01mreturn\u001b[39;00m \u001b[38;5;28mself\u001b[39m\u001b[38;5;241m.\u001b[39mgamedata\n",
      "\u001b[1;31mOSError\u001b[0m: exception: access violation reading 0x00000000000014A8"
     ]
    }
   ],
   "source": [
    "# Set up a new game\n",
    "game = QuantumChessGame()\n",
    "game.new_game({})\n",
    "\n",
    "# Create Minimax AI\n",
    "AIConfig1 = AISearchConfig()\n",
    "AIConfig1.max_search_depth = 5\n",
    "AIConfig1.max_search_time = 4000\n",
    "AIConfig1.capture_move_repetitions = 1\n",
    "AIConfig1.use_transposition_table = False\n",
    "AIConfig1.use_iterative_deepening = False\n",
    "AIConfig1.search_quantum_moves = False\n",
    "game = QuantumChessGame()\n",
    "AI = MiniMaxAI(game)\n",
    "#AI.set_configuration(AIConfig1)\n",
    "\n",
    "# Create MCTS AI\n",
    "MCTSAI = MCTS_AI()\n",
    "\n",
    "movecode = 1\n",
    "gamedata = game.get_game_data()\n",
    "move_history = []\n",
    "random.seed(0)\n",
    "while( movecode == 1 ):\n",
    "\n",
    "    if( gamedata.ply % 2 == 0 ):\n",
    "        searchresult = AI.find_best_move(game)\n",
    "        move = str(searchresult.bestMove)[2:-1]\n",
    "    else:\n",
    "        move = MCTSAI.find_best_move(game)\n",
    "\n",
    "    gamedata, movecode = game.do_move(move)\n",
    "    move_history = game.get_history()\n",
    "    print(move_history)\n",
    "\n",
    "    if( len(move_history) > 200 ):\n",
    "        break\n",
    "\n",
    "print(\"Game ended with movecode: \" + MoveCode[movecode])\n",
    "AI.destroy()"
   ]
  },
  {
   "cell_type": "markdown",
   "id": "91b700ab-5206-46a3-83d3-de7f204fd983",
   "metadata": {
    "id": "91b700ab-5206-46a3-83d3-de7f204fd983"
   },
   "source": [
    "## Minimax classical vs Minimax quantum"
   ]
  },
  {
   "cell_type": "code",
   "execution_count": null,
   "id": "9c74161d-38f4-4f4a-ac70-32e8faf405d4",
   "metadata": {
    "id": "9c74161d-38f4-4f4a-ac70-32e8faf405d4"
   },
   "outputs": [],
   "source": [
    "game = QuantumChessGame()\n",
    "game.new_game()\n",
    "\n",
    "AIConfig1 = AISearchConfig()\n",
    "AIConfig1.max_search_depth = 3\n",
    "AIConfig1.max_search_time = 2000\n",
    "AIConfig1.capture_move_repetitions = 1\n",
    "AIConfig1.use_transposition_table = False\n",
    "AIConfig1.use_iterative_deepening = False\n",
    "AIConfig1.search_quantum_moves = False\n",
    "\n",
    "AIConfig2 = AISearchConfig()\n",
    "AIConfig2.max_search_depth = 3\n",
    "AIConfig2.max_search_time = 2000\n",
    "AIConfig2.capture_move_repetitions = 25\n",
    "AIConfig2.use_transposition_table = False\n",
    "AIConfig2.use_iterative_deepening = False\n",
    "AIConfig2.search_quantum_moves = True\n",
    "\n",
    "AIs = [QuantumChessAI(),QuantumChessAI()]\n",
    "AIs[0].set_configuration(AIConfig1)\n",
    "AIs[1].set_configuration(AIConfig2)\n",
    "\n",
    "movecode = 1\n",
    "gamedata = game.get_game_data()\n",
    "move_history = []\n",
    "random.seed(0)\n",
    "while( movecode == 1 ):\n",
    "\n",
    "    searchresult = AIs[gamedata.ply%2].find_best_move(game)\n",
    "    move = str(searchresult.bestMove)[2:-1]\n",
    "\n",
    "    # If no valid move found, just pick first legal one\n",
    "    if( move == \"\" ):\n",
    "        all_moves = format_moves(game.get_legal_moves())\n",
    "        move = all_moves[random.randrange(0, len(all_moves))]\n",
    "        print(\"No move returned, legal move picked is \")\n",
    "        print(move)\n",
    "\n",
    "    print(\"Move: %s\"%move)\n",
    "    gamedata, movecode = game.do_move(move)\n",
    "\n",
    "print(\"Game ended with movecode: \" + MoveCode[movecode])\n",
    "AIs[0].destroy()\n",
    "AIs[1].destroy()"
   ]
  },
  {
   "cell_type": "code",
   "execution_count": null,
   "id": "fa3bd9d0-afa2-4f8e-9bd0-fb47bb54f614",
   "metadata": {
    "id": "fa3bd9d0-afa2-4f8e-9bd0-fb47bb54f614"
   },
   "outputs": [],
   "source": []
  },
  {
   "cell_type": "markdown",
   "id": "72318e6e-d725-4c52-9072-5bbc49ab1942",
   "metadata": {
    "id": "72318e6e-d725-4c52-9072-5bbc49ab1942"
   },
   "source": [
    "#### Convert move history to string format for Unity Sandbox mode"
   ]
  },
  {
   "cell_type": "code",
   "execution_count": null,
   "id": "0d29c7a1-5837-4c44-9e0d-31f5f35259b9",
   "metadata": {
    "colab": {
     "base_uri": "https://localhost:8080/",
     "height": 211
    },
    "executionInfo": {
     "elapsed": 329,
     "status": "error",
     "timestamp": 1720469338143,
     "user": {
      "displayName": "Nihad Nazmul",
      "userId": "07220188019262077547"
     },
     "user_tz": 300
    },
    "id": "0d29c7a1-5837-4c44-9e0d-31f5f35259b9",
    "outputId": "2d196364-8baa-4424-f5fc-67a70a472e77"
   },
   "outputs": [],
   "source": [
    "p = \"\"\n",
    "for move in move_history:\n",
    "    p += 'p' + move + \" \"\n",
    "\n",
    "print(p)"
   ]
  },
  {
   "cell_type": "code",
   "execution_count": null,
   "id": "940dcd9e-6fbd-4e8e-80c8-93e201abb00c",
   "metadata": {
    "id": "940dcd9e-6fbd-4e8e-80c8-93e201abb00c"
   },
   "outputs": [],
   "source": []
  }
 ],
 "metadata": {
  "colab": {
   "provenance": []
  },
  "kernelspec": {
   "display_name": "Python 3 (ipykernel)",
   "language": "python",
   "name": "python3"
  },
  "language_info": {
   "codemirror_mode": {
    "name": "ipython",
    "version": 3
   },
   "file_extension": ".py",
   "mimetype": "text/x-python",
   "name": "python",
   "nbconvert_exporter": "python",
   "pygments_lexer": "ipython3",
   "version": "3.12.4"
  }
 },
 "nbformat": 4,
 "nbformat_minor": 5
}
