{
 "cells": [
  {
   "cell_type": "code",
   "execution_count": 1,
   "id": "19c4e55d-a760-45b4-a969-86f9a170d43d",
   "metadata": {
    "id": "19c4e55d-a760-45b4-a969-86f9a170d43d"
   },
   "outputs": [],
   "source": [
    "from QuantumChessGame import *\n",
    "from ChessPuzzles import *\n",
    "\n",
    "from MCTS import MCTS_Node\n",
    "import MCTS_Material\n",
    "import MCTS_Move_Order\n",
    "\n",
    "from ChessPuzzles import chess_puzzles\n",
    "import numpy as np\n",
    "import time\n",
    "import random\n",
    "import os.path\n",
    "\n",
    "import pandas as pd"
   ]
  },
  {
   "cell_type": "code",
   "execution_count": 2,
   "id": "5d808b91-87fd-4f84-ba22-a0933749a3c6",
   "metadata": {},
   "outputs": [],
   "source": [
    "def tic1():\n",
    "    global _start_time1\n",
    "    _start_time1 = time.time()\n",
    "    return\n",
    "    \n",
    "def toc1():\n",
    "    t_diff1 = time.time() - _start_time1\n",
    "    return round(t_diff1, 2) \n",
    "    #t_sec1 = int(np.floor(t_diff1))\n",
    "    #t_frac1 = t_diff1 - t_sec1\n",
    "    #(t_min1, t_sec1) = divmod(t_sec1,60)\n",
    "    #(t_hour1,t_min1) = divmod(t_min1,60)\n",
    "    #print('     Time elapsed: {} hour:{} min:{} sec and frac sec {}'.format(t_hour1,t_min1,t_sec1,t_frac1))"
   ]
  },
  {
   "cell_type": "code",
   "execution_count": 3,
   "id": "956b4348-5f8e-4ef3-8a7a-f2beefcf13eb",
   "metadata": {
    "id": "74259f06-f326-468a-9ffa-7d994b677eda"
   },
   "outputs": [],
   "source": [
    "class MCTS_AI_Model:\n",
    "    def __init__(self, player = 1):\n",
    "        return\n",
    "\n",
    "    \n",
    "    def find_best_move(self, game, simVar, model):\n",
    "        #defines which AI its using \n",
    "        if model == 1:\n",
    "            root = MCTS_Node(game)\n",
    "        if model == 2:\n",
    "            root = MCTS_Move_Order.MCTS_Node(game)\n",
    "        if model == 3:\n",
    "            root = MCTS_Material.MCTS_Node(game)\n",
    "        #gets the best move from that specific AI\n",
    "        gamedata = game.get_game_data()\n",
    "        bestmove = root.best_action(gamedata.ply, simVar, timeout = 200)\n",
    "        return bestmove"
   ]
  },
  {
   "cell_type": "code",
   "execution_count": 4,
   "id": "0ecb0112-bbb5-439d-9379-6ead3b9aae5e",
   "metadata": {},
   "outputs": [
    {
     "name": "stdout",
     "output_type": "stream",
     "text": [
      " +-------------------------------------------------+\n",
      "8|   .     .     .     .     .     .   100:r 100:k |\n",
      "7|   .     .     .     .     .     .   100:p 100:p |\n",
      "6|   .     .     .   100:N   .     .     .     .   |\n",
      "5|   .     .     .     .     .     .     .     .   |\n",
      "4|   .     .     .     .     .     .     .     .   |\n",
      "3|   .     .     .     .     .     .     .     .   |\n",
      "2|   .     .     .     .     .     .     .   100:P |\n",
      "1|   .     .     .     .     .     .     .   100:K |\n",
      " +-------------------------------------------------+\n",
      "     a     b     c     d     e     f     g     h\n"
     ]
    }
   ],
   "source": [
    "## Set up a new game\n",
    "game = QuantumChessGame()\n",
    "game.new_game({'initial_state_fen':get_puzzle_fen(11),  'max_split_moves':[0,1]})\n",
    "\n",
    "# Create MCTS AI\n",
    "MCTSAI = MCTS_AI_Model()\n",
    "\n",
    "#prints board\n",
    "game_data = game.get_game_data() \n",
    "game.print_board_and_probabilities()"
   ]
  },
  {
   "cell_type": "code",
   "execution_count": 5,
   "id": "0e6fd6e2-497b-4b26-b563-9c05604f3324",
   "metadata": {
    "scrolled": true
   },
   "outputs": [
    {
     "name": "stdout",
     "output_type": "stream",
     "text": [
      "Simval for run= 5 Puzzle no 35#\n",
      "done, this worked\n"
     ]
    }
   ],
   "source": [
    "totalruns = 0  \n",
    "Orderwins = 0\n",
    "Ordertime = 0\n",
    "simVars = [5]\n",
    "puzzles = [35]\n",
    "model_no = [1, 3]\n",
    "modelStr = [\"\", \"MCTSCTRL\", \"ORDER\", \"MATERIAL\"]\n",
    "#dictonary = {'Puzzle': [], 'Order': [],  'Order avg Time': []}\n",
    "for simVar in simVars:\n",
    "    for puzzle in puzzles:\n",
    "        print(f\"Simval for run= {simVar} Puzzle no {puzzle}#\")\n",
    "        for model in model_no:\n",
    "            for i in range(1):\n",
    "                rawdictonary = {'Wins': [], 'Times': [],}\n",
    "                game.new_game({'initial_state_fen':get_puzzle_fen(puzzle),  'max_split_moves':[1,1]})\n",
    "            \n",
    "                tic1()\n",
    "                move = MCTSAI.find_best_move(game, simVar, model)\n",
    "                #game.do_move(move)\n",
    "                #game.print_board_and_probabilities()\n",
    "                if(move in get_puzzle_solution(puzzle)):\n",
    "                    #Orderwins += 1\n",
    "                    rawdictonary['Wins'].append(1)\n",
    "                else:\n",
    "                    rawdictonary['Wins'].append(0)\n",
    "                    \n",
    "                toc = toc1()\n",
    "                #Ordertime += toc\n",
    "                rawdictonary['Times'].append(toc)\n",
    "            \n",
    "                #totalruns += 1\n",
    "                \n",
    "                #print(f\"The total number of runs = {totalruns} the number of base MCTS wins = {MCTSwins} the number of move order wins = {Orderwins} the number of material wins = {Materialwins}\")\n",
    "                #print(f\"The total number of runs = {totalruns} the number of order wins = {Orderwins}\")\n",
    "            \n",
    "                rdf = pd.DataFrame(data = rawdictonary)\n",
    "                #print(rdf)\n",
    "                file = f\"{puzzle}_{simVar}raw{modelStr[model]}_7-16-2024.xlsx\"\n",
    "                #filepath = \"./\" + file\n",
    "                #print(os.path.isfile(file))\n",
    "                if os.path.isfile(file) == True:\n",
    "                    df_existing = pd.read_excel(file)\n",
    "                    df_combined = pd.concat([df_existing, rdf], keys=['key1', 'key2'])\n",
    "                else:\n",
    "                    df_combined = rdf\n",
    "                df_combined.to_excel(file, index=False)\n",
    "                #print(df_combined)\n",
    "print('done, this worked')\n",
    "\n"
   ]
  }
 ],
 "metadata": {
  "colab": {
   "provenance": []
  },
  "kernelspec": {
   "display_name": "Python 3 (ipykernel)",
   "language": "python",
   "name": "python3"
  },
  "language_info": {
   "codemirror_mode": {
    "name": "ipython",
    "version": 3
   },
   "file_extension": ".py",
   "mimetype": "text/x-python",
   "name": "python",
   "nbconvert_exporter": "python",
   "pygments_lexer": "ipython3",
   "version": "3.12.4"
  }
 },
 "nbformat": 4,
 "nbformat_minor": 5
}
